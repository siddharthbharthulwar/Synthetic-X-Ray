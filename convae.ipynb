{
 "metadata": {
  "language_info": {
   "codemirror_mode": {
    "name": "ipython",
    "version": 3
   },
   "file_extension": ".py",
   "mimetype": "text/x-python",
   "name": "python",
   "nbconvert_exporter": "python",
   "pygments_lexer": "ipython3",
   "version": 3
  },
  "orig_nbformat": 2,
  "kernelspec": {
   "name": "python_defaultSpec_1595455602020",
   "display_name": "Python 3.6.9 64-bit ('SVS': conda)"
  }
 },
 "nbformat": 4,
 "nbformat_minor": 2,
 "cells": [
  {
   "cell_type": "code",
   "execution_count": 1,
   "metadata": {
    "tags": []
   },
   "outputs": [
    {
     "output_type": "stream",
     "name": "stderr",
     "text": "Using TensorFlow backend.\n"
    }
   ],
   "source": [
    "from keras.layers import Input, Conv2D, MaxPooling2D, UpSampling2D\n",
    "from keras.models import Model\n",
    "from keras.datasets import mnist\n",
    "from keras.callbacks import TensorBoard\n",
    "from keras import backend as K\n",
    "import numpy as np\n",
    "import matplotlib.pyplot as plt\n",
    "import os\n",
    "import cv2 as cv"
   ]
  },
  {
   "cell_type": "code",
   "execution_count": 3,
   "metadata": {},
   "outputs": [],
   "source": [
    "view0 = []\n",
    "view1 = []\n",
    "view2 = []\n",
    "view3 = []\n",
    "\n",
    "counter = 0\n",
    "\n",
    "for a in os.listdir('Data/In/0'):\n",
    "\n",
    "    temp_img = cv.imread(os.path.join('Data/In/0', a), cv.IMREAD_GRAYSCALE)\n",
    "    view0.append(temp_img)\n",
    "\n",
    "for b in os.listdir('Data/In/0'):\n",
    "\n",
    "    temp_img = cv.imread(os.path.join('Data/In/1', b), cv.IMREAD_GRAYSCALE)\n",
    "    view1.append(temp_img)\n",
    "\n",
    "for c in os.listdir('Data/In/0'):\n",
    "\n",
    "    temp_img = cv.imread(os.path.join('Data/In/2', c), cv.IMREAD_GRAYSCALE)\n",
    "    view2.append(temp_img)\n",
    "\n",
    "for d in os.listdir('Data/In/0'):\n",
    "\n",
    "    temp_img = cv.imread(os.path.join('Data/In/3', d), cv.IMREAD_GRAYSCALE)\n",
    "    view3.append(temp_img)"
   ]
  },
  {
   "cell_type": "code",
   "execution_count": 4,
   "metadata": {},
   "outputs": [],
   "source": [
    "view0 = np.array(view0)\n",
    "view1 = np.array(view1)\n",
    "view2 = np.array(view2)\n",
    "view3 = np.array(view3)\n",
    "\n",
    "view0 = view0.astype('float32') / 255\n",
    "view1 = view1.astype('float32') / 255\n",
    "view2 = view2.astype('float32') / 255\n",
    "view3 = view3.astype('float32') / 255\n",
    "\n",
    "view0 = np.reshape(view0, (len(view0), 1024, 1024, 1)) \n",
    "view1 = np.reshape(view1, (len(view1), 1024, 1024, 1))\n",
    "view2 = np.reshape(view2, (len(view2), 1024, 1024, 1)) \n",
    "view3 = np.reshape(view3, (len(view3), 1024, 1024, 1))  "
   ]
  },
  {
   "cell_type": "code",
   "execution_count": 5,
   "metadata": {
    "tags": []
   },
   "outputs": [
    {
     "output_type": "stream",
     "name": "stdout",
     "text": "WARNING:tensorflow:From C:\\Users\\siddh\\Anaconda3\\envs\\SVS\\lib\\site-packages\\keras\\backend\\tensorflow_backend.py:74: The name tf.get_default_graph is deprecated. Please use tf.compat.v1.get_default_graph instead.\n\nWARNING:tensorflow:From C:\\Users\\siddh\\Anaconda3\\envs\\SVS\\lib\\site-packages\\keras\\backend\\tensorflow_backend.py:517: The name tf.placeholder is deprecated. Please use tf.compat.v1.placeholder instead.\n\nWARNING:tensorflow:From C:\\Users\\siddh\\Anaconda3\\envs\\SVS\\lib\\site-packages\\keras\\backend\\tensorflow_backend.py:4138: The name tf.random_uniform is deprecated. Please use tf.random.uniform instead.\n\nWARNING:tensorflow:From C:\\Users\\siddh\\Anaconda3\\envs\\SVS\\lib\\site-packages\\keras\\backend\\tensorflow_backend.py:3976: The name tf.nn.max_pool is deprecated. Please use tf.nn.max_pool2d instead.\n\nWARNING:tensorflow:From C:\\Users\\siddh\\Anaconda3\\envs\\SVS\\lib\\site-packages\\keras\\backend\\tensorflow_backend.py:2018: The name tf.image.resize_nearest_neighbor is deprecated. Please use tf.compat.v1.image.resize_nearest_neighbor instead.\n\n_________________________________________________________________\nLayer (type)                 Output Shape              Param #   \n=================================================================\ninput_1 (InputLayer)         (None, 1024, 1024, 1)     0         \n_________________________________________________________________\nconv2d_3 (Conv2D)            (None, 1024, 1024, 96)    960       \n_________________________________________________________________\nmax_pooling2d_3 (MaxPooling2 (None, 512, 512, 96)      0         \n_________________________________________________________________\nconv2d_4 (Conv2D)            (None, 512, 512, 96)      83040     \n_________________________________________________________________\nmax_pooling2d_4 (MaxPooling2 (None, 256, 256, 96)      0         \n_________________________________________________________________\nconv2d_5 (Conv2D)            (None, 256, 256, 96)      83040     \n_________________________________________________________________\nmax_pooling2d_5 (MaxPooling2 (None, 128, 128, 96)      0         \n_________________________________________________________________\nconv2d_6 (Conv2D)            (None, 128, 128, 96)      83040     \n_________________________________________________________________\nmax_pooling2d_6 (MaxPooling2 (None, 64, 64, 96)        0         \n_________________________________________________________________\nconv2d_7 (Conv2D)            (None, 64, 64, 96)        83040     \n_________________________________________________________________\nmax_pooling2d_7 (MaxPooling2 (None, 32, 32, 96)        0         \n_________________________________________________________________\nconv2d_8 (Conv2D)            (None, 32, 32, 8)         6920      \n_________________________________________________________________\nup_sampling2d_1 (UpSampling2 (None, 64, 64, 8)         0         \n_________________________________________________________________\nconv2d_9 (Conv2D)            (None, 64, 64, 8)         584       \n_________________________________________________________________\nup_sampling2d_2 (UpSampling2 (None, 128, 128, 8)       0         \n_________________________________________________________________\nconv2d_10 (Conv2D)           (None, 128, 128, 8)       584       \n_________________________________________________________________\nup_sampling2d_3 (UpSampling2 (None, 256, 256, 8)       0         \n_________________________________________________________________\nconv2d_11 (Conv2D)           (None, 256, 256, 8)       584       \n_________________________________________________________________\nup_sampling2d_4 (UpSampling2 (None, 512, 512, 8)       0         \n_________________________________________________________________\nconv2d_12 (Conv2D)           (None, 512, 512, 8)       584       \n_________________________________________________________________\nup_sampling2d_5 (UpSampling2 (None, 1024, 1024, 8)     0         \n_________________________________________________________________\nconv2d_13 (Conv2D)           (None, 1024, 1024, 1)     73        \n=================================================================\nTotal params: 342,449\nTrainable params: 342,449\nNon-trainable params: 0\n_________________________________________________________________\n"
    }
   ],
   "source": [
    "input_img = Input(shape=(1024, 1024, 1))    # adapt this if using 'channels_first' image data format\n",
    "\n",
    "x = Conv2D(16, (3, 3), activation='relu', padding='same')(input_img)\n",
    "x = MaxPooling2D((2, 2), padding='same')(x)\n",
    "x = Conv2D(32, (3, 3), activation='relu', padding='same')(input_img)\n",
    "x = MaxPooling2D((2, 2), padding='same')(x)\n",
    "x = Conv2D(96, (3, 3), activation='relu', padding='same')(input_img)\n",
    "x = MaxPooling2D((2, 2), padding='same')(x)\n",
    "x = Conv2D(96, (3, 3), activation='relu', padding='same')(x)\n",
    "x = MaxPooling2D((2, 2), padding='same')(x)\n",
    "x = Conv2D(96, (3, 3), activation='relu', padding='same')(x)\n",
    "x = MaxPooling2D((2, 2), padding='same')(x)\n",
    "x = Conv2D(96, (3, 3), activation='relu', padding='same')(x)\n",
    "x = MaxPooling2D((2, 2), padding='same')(x)\n",
    "x = Conv2D(96, (3, 3), activation='relu', padding='same')(x)\n",
    "encoded = MaxPooling2D((2, 2), padding='same')(x)\n",
    "\n",
    "encoder = Model(input_img, encoded)\n",
    "\n",
    "\n",
    "# at this point the representation is (4, 4, 8), i.e. 128-dimensional\n",
    "\n",
    "x = Conv2D(8, (3, 3), activation='relu', padding='same')(encoded)\n",
    "x = UpSampling2D((2, 2))(x)\n",
    "x = Conv2D(8, (3, 3), activation='relu', padding='same')(x)\n",
    "x = UpSampling2D((2, 2))(x)\n",
    "x = Conv2D(8, (3, 3), activation='relu', padding='same')(x)\n",
    "x = UpSampling2D((2, 2))(x)\n",
    "x = Conv2D(8, (3, 3), activation='relu', padding='same')(x)\n",
    "x = UpSampling2D((2, 2))(x)\n",
    "x = Conv2D(8, (3, 3), activation='relu', padding='same')(x)\n",
    "x = UpSampling2D((2, 2))(x)\n",
    "decoded = Conv2D(1, (3, 3), activation='sigmoid', padding='same')(x)\n",
    "\n",
    "autoencoder = Model(input_img, decoded)\n",
    "autoencoder.summary()"
   ]
  },
  {
   "cell_type": "code",
   "execution_count": 7,
   "metadata": {
    "tags": []
   },
   "outputs": [
    {
     "output_type": "error",
     "ename": "NameError",
     "evalue": "name 'view_0' is not defined",
     "traceback": [
      "\u001b[1;31m---------------------------------------------------------------------------\u001b[0m",
      "\u001b[1;31mNameError\u001b[0m                                 Traceback (most recent call last)",
      "\u001b[1;32m<ipython-input-7-26276ea397ee>\u001b[0m in \u001b[0;36m<module>\u001b[1;34m\u001b[0m\n\u001b[0;32m      1\u001b[0m \u001b[0mautoencoder\u001b[0m\u001b[1;33m.\u001b[0m\u001b[0mcompile\u001b[0m\u001b[1;33m(\u001b[0m\u001b[0moptimizer\u001b[0m\u001b[1;33m=\u001b[0m\u001b[1;34m'adadelta'\u001b[0m\u001b[1;33m,\u001b[0m \u001b[0mloss\u001b[0m\u001b[1;33m=\u001b[0m\u001b[1;34m'binary_crossentropy'\u001b[0m\u001b[1;33m)\u001b[0m\u001b[1;33m\u001b[0m\u001b[1;33m\u001b[0m\u001b[0m\n\u001b[1;32m----> 2\u001b[1;33m \u001b[0mx_train\u001b[0m \u001b[1;33m=\u001b[0m \u001b[0mnp\u001b[0m\u001b[1;33m.\u001b[0m\u001b[0mreshape\u001b[0m\u001b[1;33m(\u001b[0m\u001b[0mview_0\u001b[0m\u001b[1;33m,\u001b[0m \u001b[1;33m(\u001b[0m\u001b[0mlen\u001b[0m\u001b[1;33m(\u001b[0m\u001b[0mview_0\u001b[0m\u001b[1;33m)\u001b[0m\u001b[1;33m,\u001b[0m \u001b[1;36m1024\u001b[0m\u001b[1;33m,\u001b[0m \u001b[1;36m1024\u001b[0m\u001b[1;33m,\u001b[0m \u001b[1;36m1\u001b[0m\u001b[1;33m)\u001b[0m\u001b[1;33m)\u001b[0m    \u001b[1;31m# adapt this if using 'channels_first' image data format\u001b[0m\u001b[1;33m\u001b[0m\u001b[1;33m\u001b[0m\u001b[0m\n\u001b[0m\u001b[0;32m      3\u001b[0m \u001b[1;33m\u001b[0m\u001b[0m\n\u001b[0;32m      4\u001b[0m \u001b[1;31m# open a terminal and start TensorBoard to read logs in the autoencoder subdirectory\u001b[0m\u001b[1;33m\u001b[0m\u001b[1;33m\u001b[0m\u001b[1;33m\u001b[0m\u001b[0m\n\u001b[0;32m      5\u001b[0m \u001b[1;31m# tensorboard --logdir=autoencoder\u001b[0m\u001b[1;33m\u001b[0m\u001b[1;33m\u001b[0m\u001b[1;33m\u001b[0m\u001b[0m\n",
      "\u001b[1;31mNameError\u001b[0m: name 'view_0' is not defined"
     ]
    }
   ],
   "source": [
    "autoencoder.compile(optimizer='adadelta', loss='binary_crossentropy')\n",
    "x_train = np.reshape(view0, (len(view0), 1024, 1024, 1))    # adapt this if using 'channels_first' image data format\n",
    "\n",
    "# open a terminal and start TensorBoard to read logs in the autoencoder subdirectory\n",
    "# tensorboard --logdir=autoencoder\n",
    "\n",
    "autoencoder.fit(x_train, x_train, epochs=10, batch_size=4, shuffle=True)\n",
    "\n",
    "# take a look at the reconstructed digits\n",
    "decoded_imgs = autoencoder.predict(x_train)"
   ]
  },
  {
   "cell_type": "code",
   "execution_count": null,
   "metadata": {},
   "outputs": [],
   "source": [
    "print(decoded_imgs.shape)"
   ]
  },
  {
   "cell_type": "code",
   "execution_count": null,
   "metadata": {},
   "outputs": [],
   "source": []
  }
 ]
}